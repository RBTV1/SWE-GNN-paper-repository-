{
 "cells": [
  {
   "attachments": {},
   "cell_type": "markdown",
   "id": "b8240b03-00a7-41a0-a21d-10cf12500c2b",
   "metadata": {
    "tags": []
   },
   "source": [
    "# Convert raw dataset into pytorch geometric dataset and save them\n",
    "\n",
    "You can download the dataset from: "
   ]
  },
  {
   "attachments": {},
   "cell_type": "markdown",
   "id": "a77281a9",
   "metadata": {},
   "source": [
    "### Datasets ids\n",
    "\n",
    "* Training: 1-80\n",
    "* Test 1: 501-520\n",
    "* Test 2: 10001-10020\n",
    "* Test 3: 15001-15010"
   ]
  },
  {
   "cell_type": "code",
   "execution_count": 1,
   "id": "df675dab",
   "metadata": {},
   "outputs": [],
   "source": [
    "from graph_creation import create_grid_dataset, save_database"
   ]
  },
  {
   "cell_type": "code",
   "execution_count": 15,
   "id": "69681148",
   "metadata": {},
   "outputs": [],
   "source": [
    "dataset_folder = '.\\\\raw_datasets'\n",
    "\n",
    "simulation_ids = [\n",
    "    ['grid','datasets/train', 1, 80, 64],\n",
    "    ['grid','datasets/test', 500, 20, 64],\n",
    "    ['random_breach_grid','datasets/test', 10001, 20, 64],\n",
    "    ['big_random_breach_grid','datasets/test', 15001, 10, 128],\n",
    "]"
   ]
  },
  {
   "cell_type": "code",
   "execution_count": 17,
   "id": "8afe021c",
   "metadata": {},
   "outputs": [
    {
     "name": "stderr",
     "output_type": "stream",
     "text": [
      "100%|██████████| 80/80 [00:44<00:00,  1.79it/s]\n",
      "100%|██████████| 20/20 [00:10<00:00,  1.93it/s]\n",
      "100%|██████████| 20/20 [00:10<00:00,  1.98it/s]\n",
      "100%|██████████| 10/10 [01:08<00:00,  6.80s/it]\n"
     ]
    }
   ],
   "source": [
    "for dataset_name, dataset_dir, start_sim_id, n_sim, n_grids in simulation_ids:\n",
    "    pyg_dataset = create_grid_dataset(dataset_folder, n_sim=n_sim, start_sim=start_sim_id, number_grids=n_grids)\n",
    "    save_database(pyg_dataset, name=dataset_name, out_path=dataset_dir)"
   ]
  },
  {
   "attachments": {},
   "cell_type": "markdown",
   "id": "38d88589",
   "metadata": {},
   "source": [
    "This is how a sample of the dataset will look like:"
   ]
  },
  {
   "cell_type": "code",
   "execution_count": 18,
   "id": "4a6dad9a",
   "metadata": {},
   "outputs": [
    {
     "data": {
      "text/plain": [
       "Data(edge_index=[2, 65024], edge_distance=[65024], edge_slope=[65024], edge_relative_distance=[65024, 2], num_nodes=16384, pos=[16384, 2], DEM=[16384], WD=[16384, 241], VX=[16384, 241], VY=[16384, 241])"
      ]
     },
     "execution_count": 18,
     "metadata": {},
     "output_type": "execute_result"
    }
   ],
   "source": [
    "pyg_dataset[0]"
   ]
  }
 ],
 "metadata": {
  "kernelspec": {
   "display_name": "Python 3.10.8 ('GDL')",
   "language": "python",
   "name": "python3"
  },
  "language_info": {
   "codemirror_mode": {
    "name": "ipython",
    "version": 3
   },
   "file_extension": ".py",
   "mimetype": "text/x-python",
   "name": "python",
   "nbconvert_exporter": "python",
   "pygments_lexer": "ipython3",
   "version": "3.10.8"
  },
  "vscode": {
   "interpreter": {
    "hash": "751ff9f3dce1395adb2e3795e68eeeed688a6558fa29bf9be6c36716ccf55324"
   }
  }
 },
 "nbformat": 4,
 "nbformat_minor": 5
}
